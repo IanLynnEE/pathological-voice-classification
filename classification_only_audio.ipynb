{
 "cells": [
  {
   "cell_type": "code",
   "execution_count": 7,
   "metadata": {},
   "outputs": [],
   "source": [
    "import numpy\n",
    "import torch\n",
    "import torch\n",
    "from torch.utils.data import DataLoader, TensorDataset\n",
    "import sys\n",
    "import pandas as pd\n",
    "from torch.utils.data.dataset import Dataset"
   ]
  },
  {
   "cell_type": "code",
   "execution_count": 17,
   "metadata": {},
   "outputs": [],
   "source": [
    "from argument import arguments\n",
    "from preprocess import read_files"
   ]
  },
  {
   "attachments": {},
   "cell_type": "markdown",
   "metadata": {},
   "source": [
    "# read data"
   ]
  },
  {
   "cell_type": "code",
   "execution_count": 18,
   "metadata": {},
   "outputs": [
    {
     "name": "stderr",
     "output_type": "stream",
     "text": [
      "usage: ipykernel_launcher.py [-h] [--seed SEED] [--torch_seed TORCH_SEED]\n",
      "                             [--rf_seed RF_SEED] [--csv_path CSV_PATH]\n",
      "                             [--audio_dir AUDIO_DIR]\n",
      "                             [--feature_extraction {mfcc,vta,clinical_only}]\n",
      "                             [--prefix {Train,Public,Private}]\n",
      "                             [--test_csv_path TEST_CSV_PATH]\n",
      "                             [--test_audio_dir TEST_AUDIO_DIR] [--fs FS]\n",
      "                             [--frame_length FRAME_LENGTH] [--n_fft N_FFT]\n",
      "                             [--n_mfcc N_MFCC] [--n_tube N_TUBE]\n",
      "                             [--vta_window_length VTA_WINDOW_LENGTH]\n",
      "                             [--do_smote] [--smote_strategy SMOTE_STRATEGY]\n",
      "                             [--single_rf] [--n_estimators N_ESTIMATORS]\n",
      "                             [--max_depth MAX_DEPTH]\n",
      "                             [--min_samples_split MIN_SAMPLES_SPLIT]\n",
      "                             [--min_samples_leaf MIN_SAMPLES_LEAF]\n",
      "                             [--max_features MAX_FEATURES]\n",
      "                             [--model [MODEL [MODEL ...]]]\n",
      "                             [--best_score BEST_SCORE] [--epochs EPOCHS]\n",
      "                             [--batch_size BATCH_SIZE] [--lr LR]\n",
      "                             [--pct_start PCT_START] [--div_factor DIV_FACTOR]\n",
      "                             [--final_div_factor FINAL_DIV_FACTOR]\n",
      "                             [--three_phase]\n",
      "ipykernel_launcher.py: error: ambiguous option: --f=c:\\Users\\User\\AppData\\Roaming\\jupyter\\runtime\\kernel-v2-53604B7bW0yM9RRO.json could match --feature_extraction, --fs, --frame_length, --final_div_factor\n"
     ]
    },
    {
     "ename": "SystemExit",
     "evalue": "2",
     "output_type": "error",
     "traceback": [
      "An exception has occurred, use %tb to see the full traceback.\n",
      "\u001b[1;31mSystemExit\u001b[0m\u001b[1;31m:\u001b[0m 2\n"
     ]
    },
    {
     "name": "stderr",
     "output_type": "stream",
     "text": [
      "c:\\Users\\User\\anaconda3\\lib\\site-packages\\IPython\\core\\interactiveshell.py:3445: UserWarning: To exit: use 'exit', 'quit', or Ctrl-D.\n",
      "  warn(\"To exit: use 'exit', 'quit', or Ctrl-D.\", stacklevel=1)\n"
     ]
    }
   ],
   "source": [
    "args = arguments()"
   ]
  },
  {
   "cell_type": "code",
   "execution_count": 3,
   "metadata": {},
   "outputs": [],
   "source": [
    "train = pd.read_csv('Data/Train/data_list.csv')\n",
    "drop_cols = ['ID', 'Disease category', 'PPD']\n",
    "x_audio_raw, _, y_audio, _ = read_files(train, 'Data/Train/raw', 22050, 3675, drop_cols)_clinical"
   ]
  },
  {
   "attachments": {},
   "cell_type": "markdown",
   "metadata": {},
   "source": [
    "# Construct model"
   ]
  },
  {
   "cell_type": "code",
   "execution_count": 9,
   "metadata": {},
   "outputs": [],
   "source": [
    "class Audio_Dataset(Dataset):\n",
    "  def __init__(self, dataset_x, dataset_y):\n",
    "    self.x = dataset_x\n",
    "    self.y = dataset_y\n",
    "    self.n_samples = dataset_x.shape[0]\n",
    "  def __getitem__(self, index): \n",
    "    return self.x[index], self.y[index]\n",
    "  def __len__(self):\n",
    "    return self.n_samples"
   ]
  }
 ],
 "metadata": {
  "kernelspec": {
   "display_name": "base",
   "language": "python",
   "name": "python3"
  },
  "language_info": {
   "codemirror_mode": {
    "name": "ipython",
    "version": 3
   },
   "file_extension": ".py",
   "mimetype": "text/x-python",
   "name": "python",
   "nbconvert_exporter": "python",
   "pygments_lexer": "ipython3",
   "version": "3.8.8"
  },
  "orig_nbformat": 4
 },
 "nbformat": 4,
 "nbformat_minor": 2
}
