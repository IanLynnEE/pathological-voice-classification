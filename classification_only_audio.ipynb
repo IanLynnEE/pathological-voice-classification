{
 "cells": [
  {
   "cell_type": "code",
   "execution_count": 46,
   "metadata": {},
   "outputs": [],
   "source": [
    "import numpy as np\n",
    "import torch\n",
    "import torch\n",
    "import torch.nn as nn\n",
    "import torch.nn.functional as F\n",
    "import torch.optim as optim\n",
    "from torch.utils.data import DataLoader, TensorDataset\n",
    "import sys\n",
    "import pandas as pd\n",
    "from torch.utils.data.dataset import Dataset\n",
    "import seaborn as sn\n",
    "from sklearn.metrics import confusion_matrix"
   ]
  },
  {
   "cell_type": "code",
   "execution_count": 47,
   "metadata": {},
   "outputs": [],
   "source": [
    "from preprocess import read_files"
   ]
  },
  {
   "cell_type": "code",
   "execution_count": 40,
   "metadata": {},
   "outputs": [],
   "source": [
    "from collections import Counter\n",
    "from itertools import repeat\n",
    "import multiprocessing\n",
    "import sys\n",
    "\n",
    "import librosa\n",
    "import numpy as np\n",
    "import pandas as pd\n",
    "from scipy import stats\n",
    "from tqdm import tqdm\n",
    "\n",
    "from vta import vta_paper"
   ]
  },
  {
   "cell_type": "code",
   "execution_count": 41,
   "metadata": {},
   "outputs": [],
   "source": [
    "from config import get_config"
   ]
  },
  {
   "cell_type": "code",
   "execution_count": 42,
   "metadata": {},
   "outputs": [],
   "source": [
    "import os"
   ]
  },
  {
   "cell_type": "code",
   "execution_count": 43,
   "metadata": {},
   "outputs": [],
   "source": [
    "args = get_config()"
   ]
  },
  {
   "attachments": {},
   "cell_type": "markdown",
   "metadata": {},
   "source": [
    "# original NN"
   ]
  },
  {
   "attachments": {},
   "cell_type": "markdown",
   "metadata": {},
   "source": [
    "## read data"
   ]
  },
  {
   "cell_type": "code",
   "execution_count": null,
   "metadata": {},
   "outputs": [],
   "source": [
    "def get_audio_features_vta(audio: np.ndarray):\n",
    "    \"\"\"Generate audio features by MFCC or VTA, depending on the arguments.\n",
    "\n",
    "    Args:\n",
    "        audio (np.ndarray): raw audio data points (N, H_in)\n",
    "        args (argparse.Namespace): arguments\n",
    "\n",
    "    Returns:\n",
    "        np.ndarray: extracted features (N, H_out, Frames)\n",
    "    \"\"\"\n",
    "    zip_inputs = zip(audio, repeat(21), repeat(175))\n",
    "    with multiprocessing.Pool(multiprocessing.cpu_count() // 2) as pool:\n",
    "        x = pool.starmap(vta_paper, tqdm(zip_inputs, total=audio.shape[0], postfix='VTA'))\n",
    "    x = np.dstack(x).T\n",
    "    return x"
   ]
  },
  {
   "cell_type": "code",
   "execution_count": null,
   "metadata": {},
   "outputs": [],
   "source": [
    "train = pd.read_csv('Data/Train/data_list.csv')\n",
    "drop_cols = ['ID', 'Disease category', 'PPD']\n",
    "x_audio_raw, _, y_audio, _ = read_files(train, 'Data/Train/raw', 22050, 3675, drop_cols)\n",
    "x_audio = get_audio_features_vta(x_audio_raw).reshape(x_audio_raw.shape[0], -1)\n",
    "y_audio[~(y_audio==5)] = 0\n",
    "y_audio[y_audio==5] = 1"
   ]
  },
  {
   "attachments": {},
   "cell_type": "markdown",
   "metadata": {},
   "source": [
    "## Construct model"
   ]
  },
  {
   "cell_type": "code",
   "execution_count": null,
   "metadata": {},
   "outputs": [],
   "source": [
    "# Some parameters\n",
    "lr = 0.0001\n",
    "batch_size = 64\n",
    "epoch = 100"
   ]
  },
  {
   "cell_type": "code",
   "execution_count": null,
   "metadata": {},
   "outputs": [],
   "source": [
    "class Audio_Dataset(Dataset):\n",
    "  def __init__(self, dataset_x, dataset_y):\n",
    "    self.x = dataset_x\n",
    "    self.y = dataset_y\n",
    "    self.n_samples = dataset_x.shape[0]\n",
    "  def __getitem__(self, index): \n",
    "    return self.x[index], self.y[index]\n",
    "  def __len__(self):\n",
    "    return self.n_samples"
   ]
  },
  {
   "cell_type": "code",
   "execution_count": null,
   "metadata": {},
   "outputs": [],
   "source": [
    "class Audio_NN(nn.Module):\n",
    "  def __init__(self, input_dim, output_dim, epoch):\n",
    "    super(Audio_NN, self).__init__()\n",
    "\n",
    "    self.Lin1 = nn.Linear(input_dim, 2048)\n",
    "    self.Lin2 = nn.Linear(2048, 512)\n",
    "    self.Lin3 = nn.Linear(512, 32)\n",
    "    self.Lin4 = nn.Linear(32, 8)\n",
    "    self.Lin5 = nn.Linear(8, output_dim)\n",
    "    self.relu = nn.ReLU()\n",
    "    self.loss = np.zeros(epoch)\n",
    "  def forward(self, x):\n",
    "    out = self.Lin1(x)\n",
    "    out = self.relu(out)\n",
    "    out = self.Lin2(out)\n",
    "    out = self.Lin3(out)\n",
    "    out = self.relu(out)\n",
    "    out = self.Lin4(out)\n",
    "    out = self.Lin5(out)\n",
    "    return out"
   ]
  },
  {
   "cell_type": "code",
   "execution_count": null,
   "metadata": {},
   "outputs": [],
   "source": [
    "dataset_train = Audio_Dataset(x_audio,y_audio)\n",
    "dataloader_train = DataLoader(dataset=dataset_train, batch_size=batch_size, shuffle = False)"
   ]
  },
  {
   "cell_type": "code",
   "execution_count": null,
   "metadata": {},
   "outputs": [],
   "source": [
    "audio_nn = Audio_NN(input_dim=x_audio.shape[1], output_dim=2, epoch=epoch)\n",
    "loss = nn.CrossEntropyLoss()\n",
    "optimizer = optim.Adam(audio_nn.parameters(),lr=lr)"
   ]
  },
  {
   "cell_type": "code",
   "execution_count": null,
   "metadata": {},
   "outputs": [],
   "source": [
    "for i in tqdm(range(epoch)):\n",
    "  for id, (x, y) in enumerate(dataloader_train):\n",
    "    pred = audio_nn(x.float())\n",
    "    loss_value = loss(pred,y.long())\n",
    "\n",
    "    optimizer.zero_grad()\n",
    "    loss_value.backward()\n",
    "\n",
    "    optimizer.step()\n",
    "    audio_nn.loss[i] = loss_value"
   ]
  },
  {
   "cell_type": "code",
   "execution_count": null,
   "metadata": {},
   "outputs": [],
   "source": [
    "import matplotlib.pyplot as plt"
   ]
  },
  {
   "cell_type": "code",
   "execution_count": null,
   "metadata": {},
   "outputs": [],
   "source": [
    "torch.save(audio_nn.state_dict(), r\"C:\\Users\\User\\Desktop\\AIIM\\final_project\\audio_model\")"
   ]
  },
  {
   "cell_type": "code",
   "execution_count": null,
   "metadata": {},
   "outputs": [],
   "source": [
    "plt.plot(audio_nn.loss)"
   ]
  },
  {
   "cell_type": "code",
   "execution_count": null,
   "metadata": {},
   "outputs": [],
   "source": [
    "model = Audio_NN(input_dim=x_audio.shape[1], output_dim=2, epoch=epoch)\n",
    "model.load_state_dict(torch.load(r\"C:\\Users\\User\\Desktop\\AIIM\\final_project\\audio_model\"))\n",
    "model.eval()"
   ]
  },
  {
   "cell_type": "code",
   "execution_count": null,
   "metadata": {},
   "outputs": [],
   "source": [
    "y_pred = audio_nn(torch.tensor(x_audio).float())\n",
    "y_pred = np.argmax(y_pred.detach().numpy(),axis=1)\n",
    "cf_matrix = confusion_matrix(y_audio, y_pred)\n",
    "\n",
    "sn.heatmap(cf_matrix, annot=True)\n"
   ]
  },
  {
   "attachments": {},
   "cell_type": "markdown",
   "metadata": {},
   "source": [
    "# different augmentation"
   ]
  },
  {
   "attachments": {},
   "cell_type": "markdown",
   "metadata": {},
   "source": [
    "## read data"
   ]
  },
  {
   "cell_type": "code",
   "execution_count": 44,
   "metadata": {},
   "outputs": [],
   "source": [
    "from scipy.stats import skew\n",
    "from scipy.stats import kurtosis"
   ]
  },
  {
   "cell_type": "code",
   "execution_count": 45,
   "metadata": {},
   "outputs": [],
   "source": [
    "def feature_extract(id:str, type:int=1, n_tube:int=21):\n",
    "    audio, _ = librosa.load(os.path.join(args.audio_dir, id + '.wav'), sr=args.fs)\n",
    "    if type == 1:\n",
    "        features = vta_paper(audio)\n",
    "    else:\n",
    "        features = vta_paper(audio,21,int(len(audio)/100))\n",
    "    x = np.zeros([4,features.shape[0]])\n",
    "    x[0] = features.mean(axis=1)\n",
    "    x[1] = features.var(axis=1)\n",
    "    x[2] = skew(features, axis=1, bias=True)\n",
    "    x[3] = kurtosis(features, axis=1, bias=True)\n",
    "    return x"
   ]
  },
  {
   "cell_type": "code",
   "execution_count": 99,
   "metadata": {},
   "outputs": [],
   "source": [
    "df = pd.read_csv(args.csv_path)\n",
    "y_audio = np.array(df[\"Disease category\"])\n",
    "x_audio = np.zeros([len(df.ID),4,args.n_tube])\n",
    "for idx, id in enumerate(df.ID):\n",
    "    x_audio[idx] = feature_extract(id)\n",
    "x_audio = x_audio.reshape([x_audio.shape[0],x_audio.shape[1]*x_audio.shape[2]])\n",
    "y_audio[~(y_audio==5)] = 0\n",
    "y_audio[y_audio==5] = 1"
   ]
  },
  {
   "attachments": {},
   "cell_type": "markdown",
   "metadata": {},
   "source": [
    "## Construct model"
   ]
  },
  {
   "cell_type": "code",
   "execution_count": 118,
   "metadata": {},
   "outputs": [],
   "source": [
    "# Some parameters\n",
    "batch_size = 64\n",
    "epoch = 40"
   ]
  },
  {
   "cell_type": "code",
   "execution_count": 54,
   "metadata": {},
   "outputs": [],
   "source": [
    "class Audio_Dataset(Dataset):\n",
    "  def __init__(self, dataset_x, dataset_y):\n",
    "    self.x = dataset_x\n",
    "    self.y = dataset_y\n",
    "    self.n_samples = dataset_x.shape[0]\n",
    "  def __getitem__(self, index): \n",
    "    return self.x[index], self.y[index]\n",
    "  def __len__(self):\n",
    "    return self.n_samples"
   ]
  },
  {
   "cell_type": "code",
   "execution_count": 167,
   "metadata": {},
   "outputs": [],
   "source": [
    "class Audio_NN(nn.Module):\n",
    "  def __init__(self, input_dim, output_dim, epoch):\n",
    "    super(Audio_NN, self).__init__()\n",
    "\n",
    "    self.Lin1 = nn.Linear(input_dim, 1024)\n",
    "    self.Lin2 = nn.Linear(1024, 64)\n",
    "    self.Lin4 = nn.Linear(64, 8)\n",
    "    self.Lin5 = nn.Linear(8, output_dim)\n",
    "    self.relu = nn.ReLU()\n",
    "    self.loss = np.zeros(epoch)\n",
    "  def forward(self, x):\n",
    "    out = self.Lin1(x)\n",
    "    out = self.relu(out)\n",
    "    out = self.Lin2(out)\n",
    "    out = self.relu(out)\n",
    "    out = self.Lin4(out)\n",
    "    out = self.Lin5(out)\n",
    "    return out"
   ]
  },
  {
   "cell_type": "code",
   "execution_count": 108,
   "metadata": {},
   "outputs": [],
   "source": [
    "dataset_train = Audio_Dataset(x_audio,y_audio)\n",
    "dataloader_train = DataLoader(dataset=dataset_train, batch_size=batch_size, shuffle = True)"
   ]
  },
  {
   "cell_type": "code",
   "execution_count": 173,
   "metadata": {},
   "outputs": [],
   "source": [
    "weight = [1,(y_audio==0).sum()/(y_audio==1).sum()]\n",
    "audio_nn = Audio_NN(input_dim=x_audio.shape[1], output_dim=2, epoch=epoch)\n",
    "loss = nn.CrossEntropyLoss(weight=torch.FloatTensor(weight))\n",
    "optimizer = optim.Adam(audio_nn.parameters(),lr=0.00005)"
   ]
  },
  {
   "cell_type": "code",
   "execution_count": 174,
   "metadata": {},
   "outputs": [
    {
     "name": "stderr",
     "output_type": "stream",
     "text": [
      "100%|██████████| 40/40 [00:02<00:00, 15.82it/s]\n"
     ]
    }
   ],
   "source": [
    "for i in tqdm(range(epoch)):\n",
    "  for id, (x, y) in enumerate(dataloader_train):\n",
    "    pred = audio_nn(x.float())\n",
    "    loss_value = loss(pred,y.long())\n",
    "\n",
    "    optimizer.zero_grad()\n",
    "    loss_value.backward()\n",
    "\n",
    "    optimizer.step()\n",
    "    audio_nn.loss[i] = loss_value"
   ]
  },
  {
   "cell_type": "code",
   "execution_count": 63,
   "metadata": {},
   "outputs": [],
   "source": [
    "import matplotlib.pyplot as plt"
   ]
  },
  {
   "cell_type": "code",
   "execution_count": 175,
   "metadata": {},
   "outputs": [
    {
     "data": {
      "text/plain": [
       "[<matplotlib.lines.Line2D at 0x19dcdbd0100>]"
      ]
     },
     "execution_count": 175,
     "metadata": {},
     "output_type": "execute_result"
    },
    {
     "data": {
      "image/png": "[encoded data removed]",
      "text/plain": [
       "<Figure size 432x288 with 1 Axes>"
      ]
     },
     "metadata": {
      "needs_background": "light"
     },
     "output_type": "display_data"
    }
   ],
   "source": [
    "plt.plot(audio_nn.loss)"
   ]
  },
  {
   "cell_type": "code",
   "execution_count": 176,
   "metadata": {},
   "outputs": [
    {
     "data": {
      "text/plain": [
       "<Axes: >"
      ]
     },
     "execution_count": 176,
     "metadata": {},
     "output_type": "execute_result"
    },
    {
     "data": {
      "image/png": "[encoded data removed]",
      "text/plain": [
       "<Figure size 432x288 with 2 Axes>"
      ]
     },
     "metadata": {
      "needs_background": "light"
     },
     "output_type": "display_data"
    }
   ],
   "source": [
    "y_pred = audio_nn(torch.tensor(x_audio).float())\n",
    "y_pred = np.argmax(y_pred.detach().numpy(),axis=1)\n",
    "cf_matrix = confusion_matrix(y_audio, y_pred)\n",
    "\n",
    "sn.heatmap(cf_matrix, annot=True)\n"
   ]
  },
  {
   "attachments": {},
   "cell_type": "markdown",
   "metadata": {},
   "source": [
    "## read test data"
   ]
  },
  {
   "cell_type": "code",
   "execution_count": 96,
   "metadata": {},
   "outputs": [],
   "source": [
    "def feature_extract_t(id:str, type:int=1, n_tube:int=21):\n",
    "    audio, _ = librosa.load(os.path.join('Data/Public Testing Dataset/test_data_public/', id + '.wav'), sr=args.fs)\n",
    "    if type == 1:\n",
    "        features = vta_paper(audio)\n",
    "    else:\n",
    "        features = vta_paper(audio,21,int(len(audio)/100))\n",
    "    x = np.zeros([4,features.shape[0]])\n",
    "    x[0] = features.mean(axis=1)\n",
    "    x[1] = features.var(axis=1)\n",
    "    x[2] = skew(features, axis=1, bias=True)\n",
    "    x[3] = kurtosis(features, axis=1, bias=True)\n",
    "    return x"
   ]
  },
  {
   "cell_type": "code",
   "execution_count": 104,
   "metadata": {},
   "outputs": [],
   "source": [
    "df_test = pd.read_csv('Data/Public Testing Dataset/public_with_ans.csv')\n",
    "y_audio_test = np.array(df_test[\"Disease category\"])\n",
    "x_audio_test = np.zeros([len(df_test.ID),4,args.n_tube])\n",
    "for idx, id in enumerate(df_test.ID):\n",
    "    x_audio_test[idx] = feature_extract_t(id)\n",
    "x_audio_test = x_audio_test.reshape([x_audio_test.shape[0],x_audio_test.shape[1]*x_audio_test.shape[2]])\n",
    "y_audio_test[~(y_audio_test==5)] = 0\n",
    "y_audio_test[y_audio_test==5] = 1"
   ]
  },
  {
   "cell_type": "code",
   "execution_count": 177,
   "metadata": {},
   "outputs": [
    {
     "data": {
      "text/plain": [
       "<Axes: >"
      ]
     },
     "execution_count": 177,
     "metadata": {},
     "output_type": "execute_result"
    },
    {
     "data": {
      "image/png": "[encoded data removed]",
      "text/plain": [
       "<Figure size 432x288 with 2 Axes>"
      ]
     },
     "metadata": {
      "needs_background": "light"
     },
     "output_type": "display_data"
    }
   ],
   "source": [
    "y_pred = audio_nn(torch.tensor(x_audio_test).float())\n",
    "y_pred = np.argmax(y_pred.detach().numpy(),axis=1)\n",
    "cf_matrix = confusion_matrix(y_audio_test, y_pred)\n",
    "\n",
    "sn.heatmap(cf_matrix, annot=True)\n"
   ]
  }
 ],
 "metadata": {
  "kernelspec": {
   "display_name": "base",
   "language": "python",
   "name": "python3"
  },
  "language_info": {
   "codemirror_mode": {
    "name": "ipython",
    "version": 3
   },
   "file_extension": ".py",
   "mimetype": "text/x-python",
   "name": "python",
   "nbconvert_exporter": "python",
   "pygments_lexer": "ipython3",
   "version": "3.8.8"
  },
  "orig_nbformat": 4
 },
 "nbformat": 4,
 "nbformat_minor": 2
}
